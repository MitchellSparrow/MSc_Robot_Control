{
  "cells": [
    {
      "cell_type": "markdown",
      "metadata": {},
      "source": [
        "# Step 1: Define software versions and import packages"
      ]
    },
    {
      "cell_type": "code",
      "execution_count": null,
      "metadata": {
        "colab": {
          "base_uri": "https://localhost:8080/"
        },
        "id": "EmK7y_1ko24r",
        "outputId": "8bc197f5-2b31-46f6-9500-31e30a482d32"
      },
      "outputs": [
        {
          "name": "stdout",
          "output_type": "stream",
          "text": [
            "Requirement already satisfied: numpy==1.19.5 in /usr/local/lib/python3.7/dist-packages (1.19.5)\n"
          ]
        }
      ],
      "source": [
        "!pip install numpy==1.19.5"
      ]
    },
    {
      "cell_type": "code",
      "execution_count": null,
      "metadata": {
        "id": "YhUmrLhR1sHo"
      },
      "outputs": [],
      "source": [
        "from sklearn.model_selection import train_test_split\n",
        "from tensorflow.keras.utils import to_categorical\n",
        "import os\n",
        "import numpy as np\n",
        "from tensorflow.keras.models import Sequential\n",
        "from tensorflow.keras.layers import LSTM, Dense\n",
        "from tensorflow.keras.callbacks import TensorBoard\n",
        "from sklearn.metrics import multilabel_confusion_matrix, accuracy_score, classification_report\n",
        "from sklearn.model_selection import KFold\n",
        "import datetime\n",
        "import keras\n",
        "import tensorflow as tf\n",
        "from keras import backend as K\n",
        "import random\n",
        "from matplotlib import pyplot as plt"
      ]
    },
    {
      "cell_type": "code",
      "execution_count": null,
      "metadata": {
        "id": "qA0eqYw11_bE"
      },
      "outputs": [],
      "source": [
        "n_split = 10\n",
        "SEQUENCE_LENGTH = 25\n",
        "\n",
        "DATA_PATH = '/content/drive/MyDrive/Dissertation/data/project/LSTM_Data/'\n",
        "\n",
        "SPONGE_CLASSIFICATIONS = np.array(['no_object', 'soft', 'medium', 'firm', 'very_firm'])\n",
        "label_map = {label: num for num, label in enumerate(SPONGE_CLASSIFICATIONS)}\n",
        "\n",
        "sequences, labels = [], []"
      ]
    },
    {
      "cell_type": "markdown",
      "metadata": {
        "id": "mi16wQmy2nxS"
      },
      "source": [
        "# Create arrays with all the data"
      ]
    },
    {
      "cell_type": "code",
      "execution_count": null,
      "metadata": {
        "colab": {
          "base_uri": "https://localhost:8080/"
        },
        "id": "mTJj4w_T2Imf",
        "outputId": "976b78be-c983-463e-ecf0-7569fae3ab24"
      },
      "outputs": [
        {
          "name": "stdout",
          "output_type": "stream",
          "text": [
            "no_object\n",
            "soft\n",
            "medium\n",
            "firm\n",
            "very_firm\n"
          ]
        }
      ],
      "source": [
        "for action in SPONGE_CLASSIFICATIONS:\n",
        "    print(action)\n",
        "    for sequence in np.array(os.listdir(os.path.join(DATA_PATH, action))).astype(int):\n",
        "        window = []\n",
        "        for frame_num in range(SEQUENCE_LENGTH):\n",
        "            res = np.load(os.path.join(DATA_PATH, action, str(\n",
        "                sequence), \"{}.npy\".format(frame_num)))\n",
        "            window.append(res.flatten())\n",
        "        sequences.append(window)\n",
        "        labels.append(label_map[action])   "
      ]
    },
    {
      "cell_type": "markdown",
      "metadata": {
        "id": "uIjKoaNe2vW8"
      },
      "source": [
        "# Define the LSTM model"
      ]
    },
    {
      "cell_type": "code",
      "execution_count": null,
      "metadata": {
        "colab": {
          "base_uri": "https://localhost:8080/"
        },
        "id": "SvgprACF2Lqq",
        "outputId": "beef681d-0de3-4530-bedd-bc1519d27725"
      },
      "outputs": [
        {
          "name": "stdout",
          "output_type": "stream",
          "text": [
            "(75, 25, 307200)\n"
          ]
        }
      ],
      "source": [
        "X = np.array(sequences)\n",
        "print(X.shape)\n",
        "\n",
        "y = to_categorical(labels).astype(int)\n",
        "X_train, X_test, Y_train, Y_test = train_test_split(X, y, test_size=0.2, random_state = 0)\n",
        "\n",
        "def create_model(learning_rate):\n",
        "    model = Sequential()\n",
        "    model.add(LSTM(64, return_sequences=True,\n",
        "                   activation='relu', input_shape=(SEQUENCE_LENGTH, 480*640)))\n",
        "    model.add(LSTM(128, return_sequences=True, activation='relu'))\n",
        "    model.add(LSTM(64, return_sequences=False, activation='relu'))\n",
        "    model.add(Dense(64, activation='relu'))\n",
        "    model.add(Dense(32, activation='relu'))\n",
        "    model.add(Dense(SPONGE_CLASSIFICATIONS.shape[0], activation='softmax'))\n",
        "\n",
        "    optimizer = tf.keras.optimizers.Adam(lr=learning_rate)\n",
        "    model.compile(optimizer=optimizer, loss='categorical_crossentropy',\n",
        "                  metrics=['categorical_accuracy'])\n",
        "\n",
        "    return model"
      ]
    },
    {
      "cell_type": "markdown",
      "metadata": {
        "id": "ce7UhKKHCQHo"
      },
      "source": [
        "# Sanity check\n"
      ]
    },
    {
      "cell_type": "code",
      "execution_count": null,
      "metadata": {
        "colab": {
          "base_uri": "https://localhost:8080/",
          "height": 212
        },
        "id": "IE7BiW0pLAu5",
        "outputId": "9e5d2882-2ba8-4c67-b095-a17c2a2129aa"
      },
      "outputs": [
        {
          "data": {
            "image/png": "[encoded data removed]",
            "text/plain": [
              "<Figure size 864x432 with 3 Axes>"
            ]
          },
          "metadata": {
            "needs_background": "light"
          },
          "output_type": "display_data"
        }
      ],
      "source": [
        "test_sequence = []\n",
        "\n",
        "video_number = random.randint(0, 14)\n",
        "for frame_num in range(4,9,2):\n",
        "  res = np.load(os.path.join(DATA_PATH, \"firm\", str(video_number), \"{}.npy\".format(frame_num)))\n",
        "  test_sequence.append(res)\n",
        "\n",
        "plt.figure(figsize=(12, 6))\n",
        "plt.subplot(131)\n",
        "plt.title('Frame number: 4')\n",
        "plt.imshow(test_sequence[0], cmap='gray')\n",
        "plt.subplot(132)\n",
        "plt.title('Frame number: 6')\n",
        "plt.imshow(test_sequence[1], cmap='gray')\n",
        "plt.subplot(133)\n",
        "plt.title('Frame number: 8')\n",
        "plt.imshow(test_sequence[2], cmap='gray')\n",
        "\n",
        "\n",
        "plt.show()\n"
      ]
    },
    {
      "cell_type": "markdown",
      "metadata": {
        "id": "V9G-8Ll02hfU"
      },
      "source": [
        "# Train the model\n"
      ]
    },
    {
      "cell_type": "code",
      "execution_count": null,
      "metadata": {
        "colab": {
          "base_uri": "https://localhost:8080/"
        },
        "id": "kUaYCQZItNy2",
        "outputId": "21ce8892-2a87-412c-b9cb-21d737383b2a"
      },
      "outputs": [],
      "source": [
        "training_num = 109\n",
        "\n",
        "bs = 16\n",
        "\n",
        "x_train, x_val, y_train, y_val = train_test_split(X_train, Y_train, test_size=0.5, random_state = 0)\n",
        "\n",
        "training_folder_path = \"training_\" + str(training_num) + \"/\"\n",
        "\n",
        "os.mkdir(\"/content/drive/MyDrive/Dissertation/checkpoints/project/LSTM/\" + training_folder_path)\n",
        "os.mkdir(\"/content/drive/MyDrive/Dissertation/logs/project/LSTM/\" + training_folder_path)\n",
        "os.mkdir(\"/content/drive/MyDrive/Dissertation/saved_models/project/LSTM/\"+ training_folder_path)\n",
        "\n",
        "model = create_model(0.0001)\n",
        "\n",
        "test_version = \"bs_8_st_1_lr_0.0001_1\"\n",
        "checkpoint_path = training_folder_path + test_version + \"/\" + \"cp.ckpt\"\n",
        "checkpoint_dir = os.path.join(\"/content/drive/MyDrive/Dissertation/checkpoints/project/LSTM/\", checkpoint_path)\n",
        "log_dir = \"/content/drive/MyDrive/Dissertation/logs/project/LSTM/\" + training_folder_path + test_version + \"/\"\n",
        "\n",
        "tensorboard_callback = keras.callbacks.TensorBoard(log_dir=log_dir)\n",
        "cp_callback = keras.callbacks.ModelCheckpoint(filepath=checkpoint_dir,save_weights_only=True, save_best_only=True, verbose=1)\n",
        "\n",
        "history = model.fit(x_train, y_train, batch_size=bs, validation_data=(x_val, y_val), steps_per_epoch=1,validation_steps=1,epochs=300,callbacks=[tensorboard_callback, cp_callback])\n",
        "#evaluation = model.evaluate(X_test, Y_test)\n",
        "\n",
        "model = create_model(0.0001)\n",
        "\n",
        "test_version = \"bs_8_st_1_lr_0.0001_2\"\n",
        "checkpoint_path = training_folder_path + test_version + \"/\" + \"cp.ckpt\"\n",
        "checkpoint_dir = os.path.join(\"/content/drive/MyDrive/Dissertation/checkpoints/project/LSTM/\", checkpoint_path)\n",
        "log_dir = \"/content/drive/MyDrive/Dissertation/logs/project/LSTM/\" + training_folder_path + test_version + \"/\"\n",
        "\n",
        "tensorboard_callback = keras.callbacks.TensorBoard(log_dir=log_dir)\n",
        "cp_callback = keras.callbacks.ModelCheckpoint(filepath=checkpoint_dir,save_weights_only=True, save_best_only=True, verbose=1)\n",
        "\n",
        "history = model.fit(x_train, y_train, batch_size=bs, validation_data=(x_val, y_val), steps_per_epoch=1,validation_steps=1,epochs=300,callbacks=[tensorboard_callback, cp_callback])\n",
        "#evaluation = model.evaluate(X_test, Y_test)\n",
        "\n",
        "model = create_model(0.0001)\n",
        "\n",
        "test_version = \"bs_8_st_1_lr_0.0001_3\"\n",
        "checkpoint_path = training_folder_path + test_version + \"/\" + \"cp.ckpt\"\n",
        "checkpoint_dir = os.path.join(\"/content/drive/MyDrive/Dissertation/checkpoints/project/LSTM/\", checkpoint_path)\n",
        "log_dir = \"/content/drive/MyDrive/Dissertation/logs/project/LSTM/\" + training_folder_path + test_version + \"/\"\n",
        "\n",
        "tensorboard_callback = keras.callbacks.TensorBoard(log_dir=log_dir)\n",
        "cp_callback = keras.callbacks.ModelCheckpoint(filepath=checkpoint_dir,save_weights_only=True, save_best_only=True, verbose=1)\n",
        "\n",
        "history = model.fit(x_train, y_train, batch_size=bs, validation_data=(x_val, y_val), steps_per_epoch=1,validation_steps=1,epochs=300,callbacks=[tensorboard_callback, cp_callback])\n",
        "#evaluation = model.evaluate(X_test, Y_test)\n",
        "\n",
        "model = create_model(0.0001)\n",
        "\n",
        "test_version = \"bs_8_st_1_lr_0.0001_4\"\n",
        "checkpoint_path = training_folder_path + test_version + \"/\" + \"cp.ckpt\"\n",
        "checkpoint_dir = os.path.join(\"/content/drive/MyDrive/Dissertation/checkpoints/project/LSTM/\", checkpoint_path)\n",
        "log_dir = \"/content/drive/MyDrive/Dissertation/logs/project/LSTM/\" + training_folder_path + test_version + \"/\"\n",
        "\n",
        "tensorboard_callback = keras.callbacks.TensorBoard(log_dir=log_dir)\n",
        "cp_callback = keras.callbacks.ModelCheckpoint(filepath=checkpoint_dir,save_weights_only=True, save_best_only=True, verbose=1)\n",
        "\n",
        "history = model.fit(x_train, y_train, batch_size=bs, validation_data=(x_val, y_val), steps_per_epoch=1,validation_steps=1,epochs=300,callbacks=[tensorboard_callback, cp_callback])\n",
        "#evaluation = model.evaluate(X_test, Y_test)\n",
        "\n",
        "model = create_model(0.0001)\n",
        "\n",
        "test_version = \"bs_8_st_1_lr_0.0001_5\"\n",
        "checkpoint_path = training_folder_path + test_version + \"/\" + \"cp.ckpt\"\n",
        "checkpoint_dir = os.path.join(\"/content/drive/MyDrive/Dissertation/checkpoints/project/LSTM/\", checkpoint_path)\n",
        "log_dir = \"/content/drive/MyDrive/Dissertation/logs/project/LSTM/\" + training_folder_path + test_version + \"/\"\n",
        "\n",
        "tensorboard_callback = keras.callbacks.TensorBoard(log_dir=log_dir)\n",
        "cp_callback = keras.callbacks.ModelCheckpoint(filepath=checkpoint_dir,save_weights_only=True, save_best_only=True, verbose=1)\n",
        "\n",
        "history = model.fit(x_train, y_train, batch_size=bs, validation_data=(x_val, y_val), steps_per_epoch=1,validation_steps=1,epochs=300,callbacks=[tensorboard_callback, cp_callback])\n",
        "#evaluation = model.evaluate(X_test, Y_test)"
      ]
    },
    {
      "cell_type": "markdown",
      "metadata": {
        "id": "nSJ6z7g-y1ff"
      },
      "source": [
        "# Evaluation"
      ]
    },
    {
      "cell_type": "code",
      "execution_count": null,
      "metadata": {
        "colab": {
          "base_uri": "https://localhost:8080/"
        },
        "id": "R4-rmBwYx10j",
        "outputId": "eb4a65d2-f31f-4046-f869-3453493193b0"
      },
      "outputs": [],
      "source": [
        "training_num = 109\n",
        "model = create_model(0.0001)\n",
        "\n",
        "import sklearn as sk\n",
        "\n",
        "training_folder_path = \"training_\" + str(training_num) + \"/\"\n",
        "\n",
        "test_version = \"bs_8_st_1_lr_0.0001_1\"\n",
        "print(\"\\n\\nEVALUATION FOR: \" + test_version)\n",
        "checkpoint_path = training_folder_path  + test_version + \"/\" + \"cp.ckpt\"\n",
        "model.load_weights(\"/content/drive/MyDrive/Dissertation/checkpoints/project/LSTM/\" + checkpoint_path)\n",
        "evaluation = model.evaluate(X_test, Y_test)\n",
        "yhat = model.predict(X_test)\n",
        "ytrue = np.argmax(Y_test, axis=1).tolist()\n",
        "yhat = np.argmax(yhat, axis=1).tolist()\n",
        "print(multilabel_confusion_matrix(ytrue, yhat))\n",
        "print(accuracy_score(ytrue, yhat))\n",
        "print(classification_report(ytrue,yhat))\n",
        "\n",
        "\n",
        "test_version = \"bs_8_st_1_lr_0.0001_2\"\n",
        "print(\"\\n\\nEVALUATION FOR: \" + test_version)\n",
        "checkpoint_path = training_folder_path  + test_version + \"/\" + \"cp.ckpt\"\n",
        "model.load_weights(\"/content/drive/MyDrive/Dissertation/checkpoints/project/LSTM/\" + checkpoint_path)\n",
        "evaluation = model.evaluate(X_test, Y_test)\n",
        "yhat = model.predict(X_test)\n",
        "ytrue = np.argmax(Y_test, axis=1).tolist()\n",
        "yhat = np.argmax(yhat, axis=1).tolist()\n",
        "print(multilabel_confusion_matrix(ytrue, yhat))\n",
        "print(accuracy_score(ytrue, yhat))\n",
        "print(classification_report(ytrue,yhat))\n",
        "\n",
        "test_version = \"bs_8_st_1_lr_0.0001_3\"\n",
        "print(\"\\n\\nEVALUATION FOR: \" + test_version)\n",
        "checkpoint_path = training_folder_path  + test_version + \"/\" + \"cp.ckpt\"\n",
        "model.load_weights(\"/content/drive/MyDrive/Dissertation/checkpoints/project/LSTM/\" + checkpoint_path)\n",
        "evaluation = model.evaluate(X_test, Y_test)\n",
        "yhat = model.predict(X_test)\n",
        "ytrue = np.argmax(Y_test, axis=1).tolist()\n",
        "yhat = np.argmax(yhat, axis=1).tolist()\n",
        "print(multilabel_confusion_matrix(ytrue, yhat))\n",
        "print(accuracy_score(ytrue, yhat))\n",
        "print(classification_report(ytrue,yhat))\n",
        "\n",
        "test_version = \"bs_8_st_1_lr_0.0001_4\"\n",
        "print(\"\\n\\nEVALUATION FOR: \" + test_version)\n",
        "checkpoint_path = training_folder_path  + test_version + \"/\" + \"cp.ckpt\"\n",
        "model.load_weights(\"/content/drive/MyDrive/Dissertation/checkpoints/project/LSTM/\" + checkpoint_path)\n",
        "evaluation = model.evaluate(X_test, Y_test)\n",
        "yhat = model.predict(X_test)\n",
        "ytrue = np.argmax(Y_test, axis=1).tolist()\n",
        "yhat = np.argmax(yhat, axis=1).tolist()\n",
        "print(multilabel_confusion_matrix(ytrue, yhat))\n",
        "print(accuracy_score(ytrue, yhat))\n",
        "print(classification_report(ytrue,yhat))\n",
        "\n",
        "test_version = \"bs_8_st_1_lr_0.0001_5\"\n",
        "print(\"\\n\\nEVALUATION FOR: \" + test_version)\n",
        "checkpoint_path = training_folder_path  + test_version + \"/\" + \"cp.ckpt\"\n",
        "model.load_weights(\"/content/drive/MyDrive/Dissertation/checkpoints/project/LSTM/\" + checkpoint_path)\n",
        "evaluation = model.evaluate(X_test, Y_test)\n",
        "yhat = model.predict(X_test)\n",
        "ytrue = np.argmax(Y_test, axis=1).tolist()\n",
        "yhat = np.argmax(yhat, axis=1).tolist()\n",
        "print(multilabel_confusion_matrix(ytrue, yhat))\n",
        "print(accuracy_score(ytrue, yhat))\n",
        "print(classification_report(ytrue,yhat))"
      ]
    },
    {
      "cell_type": "markdown",
      "metadata": {
        "id": "B7knFhLdzAOz"
      },
      "source": [
        "# Other code:"
      ]
    },
    {
      "cell_type": "code",
      "execution_count": null,
      "metadata": {
        "id": "wlaaTlkTitSE"
      },
      "outputs": [],
      "source": [
        "training_num = 25\n",
        "\n",
        "training_folder_path = \"training_\" + str(training_num) + \"/\"\n",
        "checkpoint_path = training_folder_path + \"cp.ckpt\"\n",
        "\n",
        "checkpoint_dir = os.path.join(\"/content/drive/MyDrive/Dissertation/checkpoints/project/LSTM/\", checkpoint_path)\n",
        "log_dir = \"/content/drive/MyDrive/Dissertation/logs/project/LSTM/\" + training_folder_path + datetime.datetime.now().strftime(\"%Y%m%d-%H%M%S\")\n",
        "\n",
        "tensorboard_callback = keras.callbacks.TensorBoard(log_dir=log_dir)\n",
        "\n",
        "cp_callback = keras.callbacks.ModelCheckpoint(filepath=checkpoint_dir,save_weights_only=True, save_best_only=True, verbose=1)"
      ]
    },
    {
      "cell_type": "markdown",
      "metadata": {
        "id": "LIh0AUJNi52_"
      },
      "source": [
        "## Create Directories"
      ]
    },
    {
      "cell_type": "code",
      "execution_count": null,
      "metadata": {
        "id": "X2ZW04NCib5C"
      },
      "outputs": [],
      "source": [
        "os.mkdir(\"/content/drive/MyDrive/Dissertation/checkpoints/project/LSTM/\" + training_folder_path)\n",
        "os.mkdir(\"/content/drive/MyDrive/Dissertation/logs/project/LSTM/\" + training_folder_path)\n",
        "os.mkdir(\"/content/drive/MyDrive/Dissertation/saved_models/project/LSTM/\"+ training_folder_path)"
      ]
    },
    {
      "cell_type": "code",
      "execution_count": null,
      "metadata": {
        "colab": {
          "base_uri": "https://localhost:8080/",
          "height": 1000
        },
        "id": "w2b6jDFGsD4f",
        "outputId": "da915722-6200-43cb-da89-126f0f403661"
      },
      "outputs": [],
      "source": [
        "x_train, x_val, y_train, y_val = train_test_split(X_train, Y_train, test_size=0.5)\n",
        "\n",
        "model = create_model()\n",
        "\n",
        "history = model.fit(x_train, y_train, batch_size=8, validation_data=(x_val, y_val), steps_per_epoch=3,validation_steps=3,epochs=200,callbacks=[tensorboard_callback, cp_callback])"
      ]
    },
    {
      "cell_type": "code",
      "execution_count": null,
      "metadata": {
        "colab": {
          "base_uri": "https://localhost:8080/"
        },
        "id": "3lNn_qtg07NR",
        "outputId": "984c7212-b140-4160-f1ac-ec5b00897431"
      },
      "outputs": [
        {
          "name": "stdout",
          "output_type": "stream",
          "text": [
            "3\n"
          ]
        }
      ],
      "source": [
        "steps_per_epoch = len(x_val)//8\n",
        "print(steps_per_epoch)"
      ]
    },
    {
      "cell_type": "code",
      "execution_count": null,
      "metadata": {
        "colab": {
          "base_uri": "https://localhost:8080/"
        },
        "id": "TCfZLwt-tPBX",
        "outputId": "73853587-0333-4035-d96f-d5ea9204eb3a"
      },
      "outputs": [
        {
          "name": "stdout",
          "output_type": "stream",
          "text": [
            "1/1 [==============================] - 0s 324ms/step - loss: 12.9139 - categorical_accuracy: 0.2667\n"
          ]
        }
      ],
      "source": [
        "evaluation = model.evaluate(X_test, Y_test)"
      ]
    },
    {
      "cell_type": "code",
      "execution_count": null,
      "metadata": {
        "colab": {
          "base_uri": "https://localhost:8080/"
        },
        "id": "OLWTRyGVtm8S",
        "outputId": "8fe5a7df-9122-4d65-e33b-3fca87e88c6d"
      },
      "outputs": [
        {
          "name": "stdout",
          "output_type": "stream",
          "text": [
            "[[[ 9  4]\n",
            "  [ 0  2]]\n",
            "\n",
            " [[ 5  6]\n",
            "  [ 2  2]]\n",
            "\n",
            " [[11  0]\n",
            "  [ 4  0]]\n",
            "\n",
            " [[13  0]\n",
            "  [ 2  0]]\n",
            "\n",
            " [[11  1]\n",
            "  [ 3  0]]]\n",
            "0.26666666666666666\n"
          ]
        }
      ],
      "source": [
        "yhat = model.predict(X_test)\n",
        "ytrue = np.argmax(Y_test, axis=1).tolist()\n",
        "yhat = np.argmax(yhat, axis=1).tolist()\n",
        "\n",
        "print(multilabel_confusion_matrix(ytrue, yhat))\n",
        "print(accuracy_score(ytrue, yhat))"
      ]
    },
    {
      "cell_type": "code",
      "execution_count": null,
      "metadata": {
        "colab": {
          "base_uri": "https://localhost:8080/"
        },
        "id": "AnMknK_q2SR1",
        "outputId": "0ed4363d-edb4-4da9-e319-8e2fedf290c9"
      },
      "outputs": [
        {
          "name": "stdout",
          "output_type": "stream",
          "text": [
            "WARNING:tensorflow:Layer lstm_84 will not use cuDNN kernels since it doesn't meet the criteria. It will use a generic GPU kernel as fallback when running on GPU.\n",
            "WARNING:tensorflow:Layer lstm_85 will not use cuDNN kernels since it doesn't meet the criteria. It will use a generic GPU kernel as fallback when running on GPU.\n",
            "WARNING:tensorflow:Layer lstm_86 will not use cuDNN kernels since it doesn't meet the criteria. It will use a generic GPU kernel as fallback when running on GPU.\n",
            "WARNING:tensorflow:Layer lstm_87 will not use cuDNN kernels since it doesn't meet the criteria. It will use a generic GPU kernel as fallback when running on GPU.\n",
            "WARNING:tensorflow:Layer lstm_88 will not use cuDNN kernels since it doesn't meet the criteria. It will use a generic GPU kernel as fallback when running on GPU.\n",
            "WARNING:tensorflow:Layer lstm_89 will not use cuDNN kernels since it doesn't meet the criteria. It will use a generic GPU kernel as fallback when running on GPU.\n",
            "Epoch 1/5\n",
            "2/2 [==============================] - ETA: 0s - loss: 1.5881 - categorical_accuracy: 0.2593WARNING:tensorflow:Can save best model only with val_loss available, skipping.\n",
            "2/2 [==============================] - 6s 110ms/step - loss: 1.5881 - categorical_accuracy: 0.2593\n",
            "Epoch 2/5\n",
            "2/2 [==============================] - ETA: 0s - loss: 1.5468 - categorical_accuracy: 0.2963WARNING:tensorflow:Can save best model only with val_loss available, skipping.\n",
            "2/2 [==============================] - 0s 101ms/step - loss: 1.5468 - categorical_accuracy: 0.2963\n",
            "Epoch 3/5\n",
            "2/2 [==============================] - ETA: 0s - loss: 1.6803 - categorical_accuracy: 0.1667WARNING:tensorflow:Can save best model only with val_loss available, skipping.\n",
            "2/2 [==============================] - 0s 97ms/step - loss: 1.6803 - categorical_accuracy: 0.1667\n",
            "Epoch 4/5\n",
            "2/2 [==============================] - ETA: 0s - loss: 1.4927 - categorical_accuracy: 0.2778WARNING:tensorflow:Can save best model only with val_loss available, skipping.\n",
            "2/2 [==============================] - 0s 88ms/step - loss: 1.4927 - categorical_accuracy: 0.2778\n",
            "Epoch 5/5\n",
            "2/2 [==============================] - ETA: 0s - loss: 1.4188 - categorical_accuracy: 0.4630WARNING:tensorflow:Can save best model only with val_loss available, skipping.\n",
            "2/2 [==============================] - 0s 83ms/step - loss: 1.4188 - categorical_accuracy: 0.4630\n",
            "1/1 [==============================] - 1s 599ms/step - loss: 1.6781 - categorical_accuracy: 0.3333\n",
            "This model performed better\n",
            "WARNING:tensorflow:Layer lstm_90 will not use cuDNN kernels since it doesn't meet the criteria. It will use a generic GPU kernel as fallback when running on GPU.\n",
            "WARNING:tensorflow:Layer lstm_91 will not use cuDNN kernels since it doesn't meet the criteria. It will use a generic GPU kernel as fallback when running on GPU.\n",
            "WARNING:tensorflow:Layer lstm_92 will not use cuDNN kernels since it doesn't meet the criteria. It will use a generic GPU kernel as fallback when running on GPU.\n",
            "Epoch 1/5\n",
            "2/2 [==============================] - ETA: 0s - loss: 1.6485 - categorical_accuracy: 0.1852WARNING:tensorflow:Can save best model only with val_loss available, skipping.\n",
            "2/2 [==============================] - 4s 88ms/step - loss: 1.6485 - categorical_accuracy: 0.1852\n",
            "Epoch 2/5\n",
            "2/2 [==============================] - ETA: 0s - loss: 1.6951 - categorical_accuracy: 0.4444WARNING:tensorflow:Can save best model only with val_loss available, skipping.\n",
            "2/2 [==============================] - 0s 107ms/step - loss: 1.6951 - categorical_accuracy: 0.4444\n",
            "Epoch 3/5\n",
            "2/2 [==============================] - ETA: 0s - loss: 1.5740 - categorical_accuracy: 0.3333WARNING:tensorflow:Can save best model only with val_loss available, skipping.\n",
            "2/2 [==============================] - 0s 107ms/step - loss: 1.5740 - categorical_accuracy: 0.3333\n",
            "Epoch 4/5\n",
            "2/2 [==============================] - ETA: 0s - loss: 1.4430 - categorical_accuracy: 0.4259WARNING:tensorflow:Can save best model only with val_loss available, skipping.\n",
            "2/2 [==============================] - 0s 92ms/step - loss: 1.4430 - categorical_accuracy: 0.4259\n",
            "Epoch 5/5\n",
            "2/2 [==============================] - ETA: 0s - loss: 1.2662 - categorical_accuracy: 0.4815WARNING:tensorflow:Can save best model only with val_loss available, skipping.\n",
            "2/2 [==============================] - 0s 86ms/step - loss: 1.2662 - categorical_accuracy: 0.4815\n",
            "1/1 [==============================] - 1s 565ms/step - loss: 1.2488 - categorical_accuracy: 0.3333\n",
            "WARNING:tensorflow:Layer lstm_93 will not use cuDNN kernels since it doesn't meet the criteria. It will use a generic GPU kernel as fallback when running on GPU.\n",
            "WARNING:tensorflow:Layer lstm_94 will not use cuDNN kernels since it doesn't meet the criteria. It will use a generic GPU kernel as fallback when running on GPU.\n",
            "WARNING:tensorflow:Layer lstm_95 will not use cuDNN kernels since it doesn't meet the criteria. It will use a generic GPU kernel as fallback when running on GPU.\n",
            "Epoch 1/5\n",
            "2/2 [==============================] - ETA: 0s - loss: 1.6425 - categorical_accuracy: 0.2222WARNING:tensorflow:Can save best model only with val_loss available, skipping.\n",
            "2/2 [==============================] - 4s 111ms/step - loss: 1.6425 - categorical_accuracy: 0.2222\n",
            "Epoch 2/5\n",
            "2/2 [==============================] - ETA: 0s - loss: 1.6974 - categorical_accuracy: 0.1296WARNING:tensorflow:Can save best model only with val_loss available, skipping.\n",
            "2/2 [==============================] - 0s 91ms/step - loss: 1.6974 - categorical_accuracy: 0.1296\n",
            "Epoch 3/5\n",
            "2/2 [==============================] - ETA: 0s - loss: 1.9361 - categorical_accuracy: 0.2407WARNING:tensorflow:Can save best model only with val_loss available, skipping.\n",
            "2/2 [==============================] - 0s 109ms/step - loss: 1.9361 - categorical_accuracy: 0.2407\n",
            "Epoch 4/5\n",
            "2/2 [==============================] - ETA: 0s - loss: 1.5399 - categorical_accuracy: 0.2963WARNING:tensorflow:Can save best model only with val_loss available, skipping.\n",
            "2/2 [==============================] - 0s 87ms/step - loss: 1.5399 - categorical_accuracy: 0.2963\n",
            "Epoch 5/5\n",
            "2/2 [==============================] - ETA: 0s - loss: 1.5614 - categorical_accuracy: 0.3333WARNING:tensorflow:Can save best model only with val_loss available, skipping.\n",
            "2/2 [==============================] - 0s 86ms/step - loss: 1.5614 - categorical_accuracy: 0.3333\n",
            "1/1 [==============================] - 1s 647ms/step - loss: 1.8667 - categorical_accuracy: 0.6667\n",
            "This model performed better\n",
            "WARNING:tensorflow:Layer lstm_96 will not use cuDNN kernels since it doesn't meet the criteria. It will use a generic GPU kernel as fallback when running on GPU.\n",
            "WARNING:tensorflow:Layer lstm_97 will not use cuDNN kernels since it doesn't meet the criteria. It will use a generic GPU kernel as fallback when running on GPU.\n",
            "WARNING:tensorflow:Layer lstm_98 will not use cuDNN kernels since it doesn't meet the criteria. It will use a generic GPU kernel as fallback when running on GPU.\n",
            "Epoch 1/5\n",
            "2/2 [==============================] - ETA: 0s - loss: 1.6097 - categorical_accuracy: 0.2037WARNING:tensorflow:Can save best model only with val_loss available, skipping.\n",
            "2/2 [==============================] - 4s 91ms/step - loss: 1.6097 - categorical_accuracy: 0.2037\n",
            "Epoch 2/5\n",
            "2/2 [==============================] - ETA: 0s - loss: 1.6353 - categorical_accuracy: 0.3704WARNING:tensorflow:Can save best model only with val_loss available, skipping.\n",
            "2/2 [==============================] - 0s 108ms/step - loss: 1.6353 - categorical_accuracy: 0.3704\n",
            "Epoch 3/5\n",
            "2/2 [==============================] - ETA: 0s - loss: 1.5658 - categorical_accuracy: 0.4259WARNING:tensorflow:Can save best model only with val_loss available, skipping.\n",
            "2/2 [==============================] - 0s 100ms/step - loss: 1.5658 - categorical_accuracy: 0.4259\n",
            "Epoch 4/5\n",
            "2/2 [==============================] - ETA: 0s - loss: 1.5048 - categorical_accuracy: 0.4259WARNING:tensorflow:Can save best model only with val_loss available, skipping.\n",
            "2/2 [==============================] - 0s 87ms/step - loss: 1.5048 - categorical_accuracy: 0.4259\n",
            "Epoch 5/5\n",
            "2/2 [==============================] - ETA: 0s - loss: 1.4914 - categorical_accuracy: 0.3889WARNING:tensorflow:Can save best model only with val_loss available, skipping.\n",
            "2/2 [==============================] - 0s 88ms/step - loss: 1.4914 - categorical_accuracy: 0.3889\n",
            "1/1 [==============================] - 1s 578ms/step - loss: 1.3580 - categorical_accuracy: 0.3333\n",
            "WARNING:tensorflow:Layer lstm_99 will not use cuDNN kernels since it doesn't meet the criteria. It will use a generic GPU kernel as fallback when running on GPU.\n",
            "WARNING:tensorflow:Layer lstm_100 will not use cuDNN kernels since it doesn't meet the criteria. It will use a generic GPU kernel as fallback when running on GPU.\n",
            "WARNING:tensorflow:Layer lstm_101 will not use cuDNN kernels since it doesn't meet the criteria. It will use a generic GPU kernel as fallback when running on GPU.\n",
            "Epoch 1/5\n",
            "2/2 [==============================] - ETA: 0s - loss: 1.5989 - categorical_accuracy: 0.2222WARNING:tensorflow:Can save best model only with val_loss available, skipping.\n",
            "2/2 [==============================] - 4s 102ms/step - loss: 1.5989 - categorical_accuracy: 0.2222\n",
            "Epoch 2/5\n",
            "2/2 [==============================] - ETA: 0s - loss: 1.6149 - categorical_accuracy: 0.1852WARNING:tensorflow:Can save best model only with val_loss available, skipping.\n",
            "2/2 [==============================] - 0s 101ms/step - loss: 1.6149 - categorical_accuracy: 0.1852\n",
            "Epoch 3/5\n",
            "2/2 [==============================] - ETA: 0s - loss: 1.4781 - categorical_accuracy: 0.5000WARNING:tensorflow:Can save best model only with val_loss available, skipping.\n",
            "2/2 [==============================] - 0s 111ms/step - loss: 1.4781 - categorical_accuracy: 0.5000\n",
            "Epoch 4/5\n",
            "2/2 [==============================] - ETA: 0s - loss: 1.3755 - categorical_accuracy: 0.5185WARNING:tensorflow:Can save best model only with val_loss available, skipping.\n",
            "2/2 [==============================] - 0s 87ms/step - loss: 1.3755 - categorical_accuracy: 0.5185\n",
            "Epoch 5/5\n",
            "2/2 [==============================] - ETA: 0s - loss: 1.2372 - categorical_accuracy: 0.6111WARNING:tensorflow:Can save best model only with val_loss available, skipping.\n",
            "2/2 [==============================] - 0s 84ms/step - loss: 1.2372 - categorical_accuracy: 0.6111\n",
            "WARNING:tensorflow:5 out of the last 5 calls to <function Model.make_test_function.<locals>.test_function at 0x7fbc9fd1e3b0> triggered tf.function retracing. Tracing is expensive and the excessive number of tracings could be due to (1) creating @tf.function repeatedly in a loop, (2) passing tensors with different shapes, (3) passing Python objects instead of tensors. For (1), please define your @tf.function outside of the loop. For (2), @tf.function has experimental_relax_shapes=True option that relaxes argument shapes that can avoid unnecessary retracing. For (3), please refer to https://www.tensorflow.org/guide/function#controlling_retracing and https://www.tensorflow.org/api_docs/python/tf/function for  more details.\n",
            "1/1 [==============================] - 1s 626ms/step - loss: 1.1013 - categorical_accuracy: 0.5000\n",
            "WARNING:tensorflow:Layer lstm_102 will not use cuDNN kernels since it doesn't meet the criteria. It will use a generic GPU kernel as fallback when running on GPU.\n",
            "WARNING:tensorflow:Layer lstm_103 will not use cuDNN kernels since it doesn't meet the criteria. It will use a generic GPU kernel as fallback when running on GPU.\n",
            "WARNING:tensorflow:Layer lstm_104 will not use cuDNN kernels since it doesn't meet the criteria. It will use a generic GPU kernel as fallback when running on GPU.\n",
            "Epoch 1/5\n",
            "2/2 [==============================] - ETA: 0s - loss: 1.5350 - categorical_accuracy: 0.1667WARNING:tensorflow:Can save best model only with val_loss available, skipping.\n",
            "2/2 [==============================] - 4s 105ms/step - loss: 1.5350 - categorical_accuracy: 0.1667\n",
            "Epoch 2/5\n",
            "2/2 [==============================] - ETA: 0s - loss: 1.6876 - categorical_accuracy: 0.2593WARNING:tensorflow:Can save best model only with val_loss available, skipping.\n",
            "2/2 [==============================] - 0s 92ms/step - loss: 1.6876 - categorical_accuracy: 0.2593\n",
            "Epoch 3/5\n",
            "2/2 [==============================] - ETA: 0s - loss: 1.5317 - categorical_accuracy: 0.2222WARNING:tensorflow:Can save best model only with val_loss available, skipping.\n",
            "2/2 [==============================] - 0s 102ms/step - loss: 1.5317 - categorical_accuracy: 0.2222\n",
            "Epoch 4/5\n",
            "2/2 [==============================] - ETA: 0s - loss: 1.4681 - categorical_accuracy: 0.2222WARNING:tensorflow:Can save best model only with val_loss available, skipping.\n",
            "2/2 [==============================] - 0s 79ms/step - loss: 1.4681 - categorical_accuracy: 0.2222\n",
            "Epoch 5/5\n",
            "2/2 [==============================] - ETA: 0s - loss: 1.9131 - categorical_accuracy: 0.3148WARNING:tensorflow:Can save best model only with val_loss available, skipping.\n",
            "2/2 [==============================] - 0s 81ms/step - loss: 1.9131 - categorical_accuracy: 0.3148\n",
            "WARNING:tensorflow:6 out of the last 6 calls to <function Model.make_test_function.<locals>.test_function at 0x7fbc0be32050> triggered tf.function retracing. Tracing is expensive and the excessive number of tracings could be due to (1) creating @tf.function repeatedly in a loop, (2) passing tensors with different shapes, (3) passing Python objects instead of tensors. For (1), please define your @tf.function outside of the loop. For (2), @tf.function has experimental_relax_shapes=True option that relaxes argument shapes that can avoid unnecessary retracing. For (3), please refer to https://www.tensorflow.org/guide/function#controlling_retracing and https://www.tensorflow.org/api_docs/python/tf/function for  more details.\n",
            "1/1 [==============================] - 1s 599ms/step - loss: 1.2516 - categorical_accuracy: 0.3333\n",
            "WARNING:tensorflow:Layer lstm_105 will not use cuDNN kernels since it doesn't meet the criteria. It will use a generic GPU kernel as fallback when running on GPU.\n",
            "WARNING:tensorflow:Layer lstm_106 will not use cuDNN kernels since it doesn't meet the criteria. It will use a generic GPU kernel as fallback when running on GPU.\n",
            "WARNING:tensorflow:Layer lstm_107 will not use cuDNN kernels since it doesn't meet the criteria. It will use a generic GPU kernel as fallback when running on GPU.\n",
            "Epoch 1/5\n",
            "2/2 [==============================] - ETA: 0s - loss: 1.7541 - categorical_accuracy: 0.2407WARNING:tensorflow:Can save best model only with val_loss available, skipping.\n",
            "2/2 [==============================] - 4s 100ms/step - loss: 1.7541 - categorical_accuracy: 0.2407\n",
            "Epoch 2/5\n",
            "2/2 [==============================] - ETA: 0s - loss: 1.8660 - categorical_accuracy: 0.3148WARNING:tensorflow:Can save best model only with val_loss available, skipping.\n",
            "2/2 [==============================] - 0s 100ms/step - loss: 1.8660 - categorical_accuracy: 0.3148\n",
            "Epoch 3/5\n",
            "2/2 [==============================] - ETA: 0s - loss: 1.7091 - categorical_accuracy: 0.3889WARNING:tensorflow:Can save best model only with val_loss available, skipping.\n",
            "2/2 [==============================] - 0s 97ms/step - loss: 1.7091 - categorical_accuracy: 0.3889\n",
            "Epoch 4/5\n",
            "2/2 [==============================] - ETA: 0s - loss: 1.5766 - categorical_accuracy: 0.5000WARNING:tensorflow:Can save best model only with val_loss available, skipping.\n",
            "2/2 [==============================] - 0s 86ms/step - loss: 1.5766 - categorical_accuracy: 0.5000\n",
            "Epoch 5/5\n",
            "2/2 [==============================] - ETA: 0s - loss: 1.4522 - categorical_accuracy: 0.5741WARNING:tensorflow:Can save best model only with val_loss available, skipping.\n",
            "2/2 [==============================] - 0s 92ms/step - loss: 1.4522 - categorical_accuracy: 0.5741\n",
            "1/1 [==============================] - 1s 647ms/step - loss: 1.7111 - categorical_accuracy: 0.3333\n",
            "WARNING:tensorflow:Layer lstm_108 will not use cuDNN kernels since it doesn't meet the criteria. It will use a generic GPU kernel as fallback when running on GPU.\n",
            "WARNING:tensorflow:Layer lstm_109 will not use cuDNN kernels since it doesn't meet the criteria. It will use a generic GPU kernel as fallback when running on GPU.\n",
            "WARNING:tensorflow:Layer lstm_110 will not use cuDNN kernels since it doesn't meet the criteria. It will use a generic GPU kernel as fallback when running on GPU.\n",
            "Epoch 1/5\n",
            "2/2 [==============================] - ETA: 0s - loss: 1.6243 - categorical_accuracy: 0.3333WARNING:tensorflow:Can save best model only with val_loss available, skipping.\n",
            "2/2 [==============================] - 4s 93ms/step - loss: 1.6243 - categorical_accuracy: 0.3333\n",
            "Epoch 2/5\n",
            "2/2 [==============================] - ETA: 0s - loss: 1.7073 - categorical_accuracy: 0.2222WARNING:tensorflow:Can save best model only with val_loss available, skipping.\n",
            "2/2 [==============================] - 0s 103ms/step - loss: 1.7073 - categorical_accuracy: 0.2222\n",
            "Epoch 3/5\n",
            "2/2 [==============================] - ETA: 0s - loss: 1.4909 - categorical_accuracy: 0.1852WARNING:tensorflow:Can save best model only with val_loss available, skipping.\n",
            "2/2 [==============================] - 0s 94ms/step - loss: 1.4909 - categorical_accuracy: 0.1852\n",
            "Epoch 4/5\n",
            "2/2 [==============================] - ETA: 0s - loss: 1.7113 - categorical_accuracy: 0.3333WARNING:tensorflow:Can save best model only with val_loss available, skipping.\n",
            "2/2 [==============================] - 0s 81ms/step - loss: 1.7113 - categorical_accuracy: 0.3333\n",
            "Epoch 5/5\n",
            "2/2 [==============================] - ETA: 0s - loss: 1.3027 - categorical_accuracy: 0.5926WARNING:tensorflow:Can save best model only with val_loss available, skipping.\n",
            "2/2 [==============================] - 0s 88ms/step - loss: 1.3027 - categorical_accuracy: 0.5926\n",
            "1/1 [==============================] - 1s 609ms/step - loss: 1.7888 - categorical_accuracy: 0.3333\n",
            "WARNING:tensorflow:Layer lstm_111 will not use cuDNN kernels since it doesn't meet the criteria. It will use a generic GPU kernel as fallback when running on GPU.\n",
            "WARNING:tensorflow:Layer lstm_112 will not use cuDNN kernels since it doesn't meet the criteria. It will use a generic GPU kernel as fallback when running on GPU.\n",
            "WARNING:tensorflow:Layer lstm_113 will not use cuDNN kernels since it doesn't meet the criteria. It will use a generic GPU kernel as fallback when running on GPU.\n",
            "Epoch 1/5\n",
            "2/2 [==============================] - ETA: 0s - loss: 1.6123 - categorical_accuracy: 0.1667WARNING:tensorflow:Can save best model only with val_loss available, skipping.\n",
            "2/2 [==============================] - 4s 91ms/step - loss: 1.6123 - categorical_accuracy: 0.1667\n",
            "Epoch 2/5\n",
            "2/2 [==============================] - ETA: 0s - loss: 1.5733 - categorical_accuracy: 0.3704WARNING:tensorflow:Can save best model only with val_loss available, skipping.\n",
            "2/2 [==============================] - 0s 99ms/step - loss: 1.5733 - categorical_accuracy: 0.3704\n",
            "Epoch 3/5\n",
            "2/2 [==============================] - ETA: 0s - loss: 1.5381 - categorical_accuracy: 0.4444WARNING:tensorflow:Can save best model only with val_loss available, skipping.\n",
            "2/2 [==============================] - 0s 98ms/step - loss: 1.5381 - categorical_accuracy: 0.4444\n",
            "Epoch 4/5\n",
            "2/2 [==============================] - ETA: 0s - loss: 1.3731 - categorical_accuracy: 0.4259WARNING:tensorflow:Can save best model only with val_loss available, skipping.\n",
            "2/2 [==============================] - 0s 87ms/step - loss: 1.3731 - categorical_accuracy: 0.4259\n",
            "Epoch 5/5\n",
            "2/2 [==============================] - ETA: 0s - loss: 1.0675 - categorical_accuracy: 0.5556WARNING:tensorflow:Can save best model only with val_loss available, skipping.\n",
            "2/2 [==============================] - 0s 86ms/step - loss: 1.0675 - categorical_accuracy: 0.5556\n",
            "1/1 [==============================] - 1s 618ms/step - loss: 1.3047 - categorical_accuracy: 0.3333\n",
            "WARNING:tensorflow:Layer lstm_114 will not use cuDNN kernels since it doesn't meet the criteria. It will use a generic GPU kernel as fallback when running on GPU.\n",
            "WARNING:tensorflow:Layer lstm_115 will not use cuDNN kernels since it doesn't meet the criteria. It will use a generic GPU kernel as fallback when running on GPU.\n",
            "WARNING:tensorflow:Layer lstm_116 will not use cuDNN kernels since it doesn't meet the criteria. It will use a generic GPU kernel as fallback when running on GPU.\n",
            "Epoch 1/5\n",
            "2/2 [==============================] - ETA: 0s - loss: 1.6355 - categorical_accuracy: 0.2037WARNING:tensorflow:Can save best model only with val_loss available, skipping.\n",
            "2/2 [==============================] - 4s 93ms/step - loss: 1.6355 - categorical_accuracy: 0.2037\n",
            "Epoch 2/5\n",
            "2/2 [==============================] - ETA: 0s - loss: 1.6769 - categorical_accuracy: 0.3148WARNING:tensorflow:Can save best model only with val_loss available, skipping.\n",
            "2/2 [==============================] - 0s 96ms/step - loss: 1.6769 - categorical_accuracy: 0.3148\n",
            "Epoch 3/5\n",
            "2/2 [==============================] - ETA: 0s - loss: 1.5525 - categorical_accuracy: 0.5185WARNING:tensorflow:Can save best model only with val_loss available, skipping.\n",
            "2/2 [==============================] - 0s 102ms/step - loss: 1.5525 - categorical_accuracy: 0.5185\n",
            "Epoch 4/5\n",
            "2/2 [==============================] - ETA: 0s - loss: 1.3738 - categorical_accuracy: 0.4630WARNING:tensorflow:Can save best model only with val_loss available, skipping.\n",
            "2/2 [==============================] - 0s 87ms/step - loss: 1.3738 - categorical_accuracy: 0.4630\n",
            "Epoch 5/5\n",
            "2/2 [==============================] - ETA: 0s - loss: 1.1359 - categorical_accuracy: 0.5370WARNING:tensorflow:Can save best model only with val_loss available, skipping.\n",
            "2/2 [==============================] - 0s 92ms/step - loss: 1.1359 - categorical_accuracy: 0.5370\n",
            "1/1 [==============================] - 1s 637ms/step - loss: 2.1945 - categorical_accuracy: 0.1667\n"
          ]
        }
      ],
      "source": [
        "best_model = create_model()\n",
        "best_accuracy = 0\n",
        "\n",
        "for train_index, test_index in KFold(n_split, shuffle=True).split(X_train):\n",
        "    x_train, x_test = X_train[train_index], X_train[test_index]\n",
        "    y_train, y_test = Y_train[train_index], Y_train[test_index]\n",
        "\n",
        "    model = create_model()\n",
        "    model.fit(x_train, y_train, epochs=5, callbacks=[tensorboard_callback, cp_callback])\n",
        "\n",
        "    evaluation = model.evaluate(x_test, y_test)\n",
        "    accuracy = evaluation[1]\n",
        "    loss = evaluation[0]\n",
        "\n",
        "    if accuracy > best_accuracy:\n",
        "        best_accuracy = accuracy\n",
        "        best_model = model\n",
        "        print('This model performed better')"
      ]
    },
    {
      "cell_type": "markdown",
      "metadata": {
        "id": "byLYfhxj2Vkh"
      },
      "source": [
        "# Model summary and performance on the test set"
      ]
    },
    {
      "cell_type": "code",
      "execution_count": null,
      "metadata": {
        "colab": {
          "base_uri": "https://localhost:8080/"
        },
        "id": "87Q2luro2UnX",
        "outputId": "f9ea5dbb-4f86-4864-db14-9c0d96330560"
      },
      "outputs": [
        {
          "name": "stdout",
          "output_type": "stream",
          "text": [
            "\n",
            "\n",
            "Best Model Evaluation:\n",
            "\n",
            "\n",
            "Model: \"sequential_31\"\n",
            "_________________________________________________________________\n",
            " Layer (type)                Output Shape              Param #   \n",
            "=================================================================\n",
            " lstm_93 (LSTM)              (None, 5, 64)             78659840  \n",
            "                                                                 \n",
            " lstm_94 (LSTM)              (None, 5, 128)            98816     \n",
            "                                                                 \n",
            " lstm_95 (LSTM)              (None, 64)                49408     \n",
            "                                                                 \n",
            " dense_93 (Dense)            (None, 64)                4160      \n",
            "                                                                 \n",
            " dense_94 (Dense)            (None, 32)                2080      \n",
            "                                                                 \n",
            " dense_95 (Dense)            (None, 5)                 165       \n",
            "                                                                 \n",
            "=================================================================\n",
            "Total params: 78,814,469\n",
            "Trainable params: 78,814,469\n",
            "Non-trainable params: 0\n",
            "_________________________________________________________________\n",
            "None\n",
            "[[[14  0]\n",
            "  [ 0  1]]\n",
            "\n",
            " [[ 9  3]\n",
            "  [ 2  1]]\n",
            "\n",
            " [[ 8  0]\n",
            "  [ 7  0]]\n",
            "\n",
            " [[ 6  7]\n",
            "  [ 0  2]]\n",
            "\n",
            " [[13  0]\n",
            "  [ 1  1]]]\n",
            "0.3333333333333333\n"
          ]
        }
      ],
      "source": [
        "\n",
        "print('\\n\\nBest Model Evaluation:\\n\\n')\n",
        "print(best_model.summary())\n",
        "\n",
        "#best_model.save('models/lstm_model_2.h5')\n",
        "\n",
        "yhat = best_model.predict(X_test)\n",
        "ytrue = np.argmax(Y_test, axis=1).tolist()\n",
        "yhat = np.argmax(yhat, axis=1).tolist()\n",
        "\n",
        "print(multilabel_confusion_matrix(ytrue, yhat))\n",
        "print(accuracy_score(ytrue, yhat))\n"
      ]
    }
  ],
  "metadata": {
    "accelerator": "GPU",
    "colab": {
      "collapsed_sections": [
        "B7knFhLdzAOz",
        "byLYfhxj2Vkh"
      ],
      "machine_shape": "hm",
      "provenance": []
    },
    "kernelspec": {
      "display_name": "Python 3.9.6 64-bit",
      "language": "python",
      "name": "python3"
    },
    "language_info": {
      "name": "python",
      "version": "3.9.6"
    },
    "vscode": {
      "interpreter": {
        "hash": "31f2aee4e71d21fbe5cf8b01ff0e069b9275f58929596ceb00d14d90e3e16cd6"
      }
    }
  },
  "nbformat": 4,
  "nbformat_minor": 0
}
