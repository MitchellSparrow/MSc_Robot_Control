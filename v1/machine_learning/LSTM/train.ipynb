{
  "cells": [
    {
      "cell_type": "markdown",
      "metadata": {},
      "source": [
        "# Step 1: Define software versions and import packages"
      ]
    },
    {
      "cell_type": "code",
      "execution_count": null,
      "metadata": {
        "colab": {
          "base_uri": "https://localhost:8080/"
        },
        "id": "EmK7y_1ko24r",
        "outputId": "8bc197f5-2b31-46f6-9500-31e30a482d32"
      },
      "outputs": [
        {
          "name": "stdout",
          "output_type": "stream",
          "text": [
            "Requirement already satisfied: numpy==1.19.5 in /usr/local/lib/python3.7/dist-packages (1.19.5)\n"
          ]
        }
      ],
      "source": [
        "!pip install numpy==1.19.5"
      ]
    },
    {
      "cell_type": "code",
      "execution_count": null,
      "metadata": {
        "id": "YhUmrLhR1sHo"
      },
      "outputs": [],
      "source": [
        "from sklearn.model_selection import train_test_split\n",
        "from tensorflow.keras.utils import to_categorical\n",
        "import os\n",
        "import numpy as np\n",
        "from tensorflow.keras.models import Sequential\n",
        "from tensorflow.keras.layers import LSTM, Dense\n",
        "from tensorflow.keras.callbacks import TensorBoard\n",
        "from sklearn.metrics import multilabel_confusion_matrix, accuracy_score, classification_report\n",
        "from sklearn.model_selection import KFold\n",
        "import datetime\n",
        "import keras\n",
        "import tensorflow as tf\n",
        "from keras import backend as K\n",
        "import random\n",
        "from matplotlib import pyplot as plt\n",
        "import sklearn as sk"
      ]
    },
    {
      "cell_type": "markdown",
      "metadata": {},
      "source": [
        "# Step 2: Setup parameters and data"
      ]
    },
    {
      "cell_type": "markdown",
      "metadata": {},
      "source": [
        "## Set a few of our parameters"
      ]
    },
    {
      "cell_type": "code",
      "execution_count": null,
      "metadata": {
        "id": "qA0eqYw11_bE"
      },
      "outputs": [],
      "source": [
        "n_split = 10\n",
        "SEQUENCE_LENGTH = 25\n",
        "\n",
        "DATA_PATH = '/content/drive/MyDrive/Dissertation/data/project/LSTM_Data/'\n",
        "\n",
        "SPONGE_CLASSIFICATIONS = np.array(['no_object', 'soft', 'medium', 'firm', 'very_firm'])\n",
        "label_map = {label: num for num, label in enumerate(SPONGE_CLASSIFICATIONS)}\n",
        "\n",
        "sequences, labels = [], []"
      ]
    },
    {
      "cell_type": "markdown",
      "metadata": {
        "id": "mi16wQmy2nxS"
      },
      "source": [
        "## Create arrays with all the data"
      ]
    },
    {
      "cell_type": "code",
      "execution_count": null,
      "metadata": {
        "colab": {
          "base_uri": "https://localhost:8080/"
        },
        "id": "mTJj4w_T2Imf",
        "outputId": "976b78be-c983-463e-ecf0-7569fae3ab24"
      },
      "outputs": [
        {
          "name": "stdout",
          "output_type": "stream",
          "text": [
            "no_object\n",
            "soft\n",
            "medium\n",
            "firm\n",
            "very_firm\n"
          ]
        }
      ],
      "source": [
        "for action in SPONGE_CLASSIFICATIONS:\n",
        "    print(action)\n",
        "    for sequence in np.array(os.listdir(os.path.join(DATA_PATH, action))).astype(int):\n",
        "        window = []\n",
        "        for frame_num in range(SEQUENCE_LENGTH):\n",
        "            res = np.load(os.path.join(DATA_PATH, action, str(\n",
        "                sequence), \"{}.npy\".format(frame_num)))\n",
        "            window.append(res.flatten())\n",
        "        sequences.append(window)\n",
        "        labels.append(label_map[action])   "
      ]
    },
    {
      "cell_type": "markdown",
      "metadata": {
        "id": "uIjKoaNe2vW8"
      },
      "source": [
        "# Define the LSTM model"
      ]
    },
    {
      "cell_type": "code",
      "execution_count": null,
      "metadata": {
        "colab": {
          "base_uri": "https://localhost:8080/"
        },
        "id": "SvgprACF2Lqq",
        "outputId": "beef681d-0de3-4530-bedd-bc1519d27725"
      },
      "outputs": [
        {
          "name": "stdout",
          "output_type": "stream",
          "text": [
            "(75, 25, 307200)\n"
          ]
        }
      ],
      "source": [
        "X = np.array(sequences)\n",
        "print(X.shape)\n",
        "\n",
        "y = to_categorical(labels).astype(int)\n",
        "X_train, X_test, Y_train, Y_test = train_test_split(X, y, test_size=0.2, random_state = 0)\n",
        "\n",
        "# Lets create a function which defines our model based on a specified learning rate\n",
        "# We do this so that we can easily test and compare learning rates between models\n",
        "def create_model(learning_rate):\n",
        "    model = Sequential()\n",
        "    model.add(LSTM(64, return_sequences=True,\n",
        "                   activation='relu', input_shape=(SEQUENCE_LENGTH, 480*640)))\n",
        "    model.add(LSTM(128, return_sequences=True, activation='relu'))\n",
        "    model.add(LSTM(64, return_sequences=False, activation='relu'))\n",
        "    model.add(Dense(64, activation='relu'))\n",
        "    model.add(Dense(32, activation='relu'))\n",
        "    model.add(Dense(SPONGE_CLASSIFICATIONS.shape[0], activation='softmax'))\n",
        "\n",
        "    optimizer = tf.keras.optimizers.Adam(lr=learning_rate)\n",
        "    model.compile(optimizer=optimizer, loss='categorical_crossentropy',\n",
        "                  metrics=['categorical_accuracy'])\n",
        "\n",
        "    return model"
      ]
    },
    {
      "cell_type": "code",
      "execution_count": null,
      "metadata": {},
      "outputs": [],
      "source": [
        "class runLSTM:\n",
        "\n",
        "    def __init__(self, trainingNum, learningRate, batchSize, version, XTrain, YTrain, XVal, YVal) -> None:\n",
        "        self.learningRate = learningRate\n",
        "        self.trainingNum = trainingNum\n",
        "        self.version = version\n",
        "        self.XTrain = XTrain\n",
        "        self.YTrain = YTrain\n",
        "        self.XVal = XVal\n",
        "        self.YVal= YVal\n",
        "        self.batchSize = batchSize\n",
        "\n",
        "        # Run the main function\n",
        "        self.run()\n",
        "\n",
        "    def run(self):\n",
        "        self.defineModel()\n",
        "        self.createDirectories()\n",
        "        self.createCallbacks()\n",
        "        self.train()\n",
        "\n",
        "    def createDirectories(self):\n",
        "        self.trainingFolderPath = \"training_\" + str(self.trainingNum) + \"/\"\n",
        "        dir = \"/content/drive/MyDrive/Dissertation/checkpoints/project/LSTM/\" + self.trainingFolderPath\n",
        "        if not os.path.exists(dir):\n",
        "            os.makedirs(dir)\n",
        "        dir = \"/content/drive/MyDrive/Dissertation/logs/project/LSTM/\" + self.trainingFolderPath\n",
        "        if not os.path.exists(dir):\n",
        "            os.makedirs(dir)\n",
        "        dir = \"/content/drive/MyDrive/Dissertation/saved_models/project/LSTM/\" + self.trainingFolderPath\n",
        "        if not os.path.exists(dir):\n",
        "            os.makedirs(dir)\n",
        "    \n",
        "\n",
        "        self.checkpointPath = self.trainingFolderPath + self.version + \"/\" + \"cp.ckpt\"\n",
        "        self.checkpointDir = os.path.join(\"/content/drive/MyDrive/Dissertation/checkpoints/project/LSTM/\", self.checkpointPath)\n",
        "        self.logDir = \"/content/drive/MyDrive/Dissertation/logs/project/LSTM/\" + self.trainingFolderPath + self.version + \"/\"\n",
        "\n",
        "    def createCallbacks(self):\n",
        "        self.tensorboardCallback = keras.callbacks.TensorBoard(log_dir=self.logDir)\n",
        "        self.cpCallback = keras.callbacks.ModelCheckpoint(filepath=self.checkpointDir,save_weights_only=True, save_best_only=True, verbose=1)\n",
        "\n",
        "    def defineModel(self):\n",
        "        self.model = create_model(self.learningRate)\n",
        "\n",
        "    def train(self):\n",
        "        self.history = self.model.fit(self.XTrain, self.YTrain, batch_size=self.batchSize, validation_data=(self.XVal, self.YVal), steps_per_epoch=1,validation_steps=1,epochs=300,callbacks=[self.tensorboardCallback, self.cpCallback])\n"
      ]
    },
    {
      "cell_type": "markdown",
      "metadata": {
        "id": "ce7UhKKHCQHo"
      },
      "source": [
        "# Sanity check\n"
      ]
    },
    {
      "cell_type": "code",
      "execution_count": null,
      "metadata": {
        "colab": {
          "base_uri": "https://localhost:8080/",
          "height": 212
        },
        "id": "IE7BiW0pLAu5",
        "outputId": "9e5d2882-2ba8-4c67-b095-a17c2a2129aa"
      },
      "outputs": [
        {
          "data": {
            "image/png": "[encoded data removed]",
            "text/plain": [
              "<Figure size 864x432 with 3 Axes>"
            ]
          },
          "metadata": {
            "needs_background": "light"
          },
          "output_type": "display_data"
        }
      ],
      "source": [
        "test_sequence = []\n",
        "\n",
        "video_number = random.randint(0, 14)\n",
        "for frame_num in range(4,9,2):\n",
        "  res = np.load(os.path.join(DATA_PATH, \"firm\", str(video_number), \"{}.npy\".format(frame_num)))\n",
        "  test_sequence.append(res)\n",
        "\n",
        "plt.figure(figsize=(12, 6))\n",
        "plt.subplot(131)\n",
        "plt.title('Frame number: 4')\n",
        "plt.imshow(test_sequence[0], cmap='gray')\n",
        "plt.subplot(132)\n",
        "plt.title('Frame number: 6')\n",
        "plt.imshow(test_sequence[1], cmap='gray')\n",
        "plt.subplot(133)\n",
        "plt.title('Frame number: 8')\n",
        "plt.imshow(test_sequence[2], cmap='gray')\n",
        "\n",
        "\n",
        "plt.show()\n"
      ]
    },
    {
      "cell_type": "markdown",
      "metadata": {
        "id": "V9G-8Ll02hfU"
      },
      "source": [
        "# Train the model\n"
      ]
    },
    {
      "cell_type": "markdown",
      "metadata": {},
      "source": [
        "We run the training process 5 separate times to ensure that we achieve the best model. We use tensorboard to log all of our training results."
      ]
    },
    {
      "cell_type": "code",
      "execution_count": null,
      "metadata": {
        "colab": {
          "base_uri": "https://localhost:8080/"
        },
        "id": "kUaYCQZItNy2",
        "outputId": "21ce8892-2a87-412c-b9cb-21d737383b2a"
      },
      "outputs": [],
      "source": [
        "# Define parameters for training\n",
        "training_num = 109\n",
        "bs = 16\n",
        "\n",
        "# Create our training and validation set \n",
        "x_train, x_val, y_train, y_val = train_test_split(X_train, Y_train, test_size=0.5, random_state = 0)\n",
        "\n",
        "# Run and train our model 5 times to ensure that we get to the best possible model \n",
        "runLSTM(trainingNum=training_num, learningRate=0.0001, batchSize=bs, version=\"bs_16_st_1_lr_0.0001_1\", XTrain=x_train, YTrain=y_train, XVal=x_val, YVal=y_val)\n",
        "runLSTM(trainingNum=training_num, learningRate=0.0001, batchSize=bs, version=\"bs_16_st_1_lr_0.0001_2\", XTrain=x_train, YTrain=y_train, XVal=x_val, YVal=y_val)\n",
        "runLSTM(trainingNum=training_num, learningRate=0.0001, batchSize=bs, version=\"bs_16_st_1_lr_0.0001_3\", XTrain=x_train, YTrain=y_train, XVal=x_val, YVal=y_val)\n",
        "runLSTM(trainingNum=training_num, learningRate=0.0001, batchSize=bs, version=\"bs_16_st_1_lr_0.0001_4\", XTrain=x_train, YTrain=y_train, XVal=x_val, YVal=y_val)\n",
        "runLSTM(trainingNum=training_num, learningRate=0.0001, batchSize=bs, version=\"bs_16_st_1_lr_0.0001_5\", XTrain=x_train, YTrain=y_train, XVal=x_val, YVal=y_val)"
      ]
    },
    {
      "cell_type": "markdown",
      "metadata": {
        "id": "nSJ6z7g-y1ff"
      },
      "source": [
        "# Evaluation"
      ]
    },
    {
      "cell_type": "markdown",
      "metadata": {},
      "source": [
        "In the following section we load our models and evaluate them to determine our best model and also what our final results are for the project"
      ]
    },
    {
      "cell_type": "code",
      "execution_count": null,
      "metadata": {
        "colab": {
          "base_uri": "https://localhost:8080/"
        },
        "id": "R4-rmBwYx10j",
        "outputId": "eb4a65d2-f31f-4046-f869-3453493193b0"
      },
      "outputs": [],
      "source": [
        "training_num = 109\n",
        "model = create_model(0.0001)\n",
        "\n",
        "training_folder_path = \"training_\" + str(training_num) + \"/\"\n",
        "\n",
        "# ROUND 1: Load our model and run some evaluation metrics to determine its performance\n",
        "test_version = \"bs_8_st_1_lr_0.0001_1\"\n",
        "print(\"\\n\\nEVALUATION FOR: \" + test_version)\n",
        "checkpoint_path = training_folder_path  + test_version + \"/\" + \"cp.ckpt\"\n",
        "model.load_weights(\"/content/drive/MyDrive/Dissertation/checkpoints/project/LSTM/\" + checkpoint_path)\n",
        "evaluation = model.evaluate(X_test, Y_test)\n",
        "yhat = model.predict(X_test)\n",
        "ytrue = np.argmax(Y_test, axis=1).tolist()\n",
        "yhat = np.argmax(yhat, axis=1).tolist()\n",
        "print(multilabel_confusion_matrix(ytrue, yhat))\n",
        "print(accuracy_score(ytrue, yhat))\n",
        "print(classification_report(ytrue,yhat))\n",
        "\n",
        "# ROUND 2: Load our model and run some evaluation metrics to determine its performance\n",
        "test_version = \"bs_8_st_1_lr_0.0001_2\"\n",
        "print(\"\\n\\nEVALUATION FOR: \" + test_version)\n",
        "checkpoint_path = training_folder_path  + test_version + \"/\" + \"cp.ckpt\"\n",
        "model.load_weights(\"/content/drive/MyDrive/Dissertation/checkpoints/project/LSTM/\" + checkpoint_path)\n",
        "evaluation = model.evaluate(X_test, Y_test)\n",
        "yhat = model.predict(X_test)\n",
        "ytrue = np.argmax(Y_test, axis=1).tolist()\n",
        "yhat = np.argmax(yhat, axis=1).tolist()\n",
        "print(multilabel_confusion_matrix(ytrue, yhat))\n",
        "print(accuracy_score(ytrue, yhat))\n",
        "print(classification_report(ytrue,yhat))\n",
        "\n",
        "# ROUND 3: Load our model and run some evaluation metrics to determine its performance\n",
        "test_version = \"bs_8_st_1_lr_0.0001_3\"\n",
        "print(\"\\n\\nEVALUATION FOR: \" + test_version)\n",
        "checkpoint_path = training_folder_path  + test_version + \"/\" + \"cp.ckpt\"\n",
        "model.load_weights(\"/content/drive/MyDrive/Dissertation/checkpoints/project/LSTM/\" + checkpoint_path)\n",
        "evaluation = model.evaluate(X_test, Y_test)\n",
        "yhat = model.predict(X_test)\n",
        "ytrue = np.argmax(Y_test, axis=1).tolist()\n",
        "yhat = np.argmax(yhat, axis=1).tolist()\n",
        "print(multilabel_confusion_matrix(ytrue, yhat))\n",
        "print(accuracy_score(ytrue, yhat))\n",
        "print(classification_report(ytrue,yhat))\n",
        "\n",
        "# ROUND 4: Load our model and run some evaluation metrics to determine its performance\n",
        "test_version = \"bs_8_st_1_lr_0.0001_4\"\n",
        "print(\"\\n\\nEVALUATION FOR: \" + test_version)\n",
        "checkpoint_path = training_folder_path  + test_version + \"/\" + \"cp.ckpt\"\n",
        "model.load_weights(\"/content/drive/MyDrive/Dissertation/checkpoints/project/LSTM/\" + checkpoint_path)\n",
        "evaluation = model.evaluate(X_test, Y_test)\n",
        "yhat = model.predict(X_test)\n",
        "ytrue = np.argmax(Y_test, axis=1).tolist()\n",
        "yhat = np.argmax(yhat, axis=1).tolist()\n",
        "print(multilabel_confusion_matrix(ytrue, yhat))\n",
        "print(accuracy_score(ytrue, yhat))\n",
        "print(classification_report(ytrue,yhat))\n",
        "\n",
        "# ROUND 5: Load our model and run some evaluation metrics to determine its performance\n",
        "test_version = \"bs_8_st_1_lr_0.0001_5\"\n",
        "print(\"\\n\\nEVALUATION FOR: \" + test_version)\n",
        "checkpoint_path = training_folder_path  + test_version + \"/\" + \"cp.ckpt\"\n",
        "model.load_weights(\"/content/drive/MyDrive/Dissertation/checkpoints/project/LSTM/\" + checkpoint_path)\n",
        "evaluation = model.evaluate(X_test, Y_test)\n",
        "yhat = model.predict(X_test)\n",
        "ytrue = np.argmax(Y_test, axis=1).tolist()\n",
        "yhat = np.argmax(yhat, axis=1).tolist()\n",
        "print(multilabel_confusion_matrix(ytrue, yhat))\n",
        "print(accuracy_score(ytrue, yhat))\n",
        "print(classification_report(ytrue,yhat))"
      ]
    }
  ],
  "metadata": {
    "accelerator": "GPU",
    "colab": {
      "collapsed_sections": [
        "B7knFhLdzAOz",
        "byLYfhxj2Vkh"
      ],
      "machine_shape": "hm",
      "provenance": []
    },
    "kernelspec": {
      "display_name": "Python 3.9.6 64-bit",
      "language": "python",
      "name": "python3"
    },
    "language_info": {
      "name": "python",
      "version": "3.9.6"
    },
    "vscode": {
      "interpreter": {
        "hash": "31f2aee4e71d21fbe5cf8b01ff0e069b9275f58929596ceb00d14d90e3e16cd6"
      }
    }
  },
  "nbformat": 4,
  "nbformat_minor": 0
}
